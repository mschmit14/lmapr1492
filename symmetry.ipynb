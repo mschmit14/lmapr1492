{
 "cells": [
  {
   "cell_type": "code",
   "execution_count": 98,
   "id": "a66398f1",
   "metadata": {},
   "outputs": [],
   "source": [
    "import numpy as np\n",
    "from mp_api.client import MPRester\n",
    "from pymatgen.core.operations import SymmOp\n",
    "from pymatgen.symmetry.analyzer import SpacegroupAnalyzer\n",
    "from jupyter_jsmol.pymatgen import quick_view"
   ]
  },
  {
   "cell_type": "code",
   "execution_count": 99,
   "id": "6bf9fbd4",
   "metadata": {},
   "outputs": [],
   "source": [
    "mp_key = \"bw9PJDXW6ljZz8DyLmXT49ZnMengQUwm\"\n",
    "mp_id = \"mp-30460\""
   ]
  },
  {
   "cell_type": "code",
   "execution_count": 100,
   "id": "8263cfbd",
   "metadata": {},
   "outputs": [
    {
     "data": {
      "application/vnd.jupyter.widget-view+json": {
       "model_id": "4567d2ba0e32416daed693e767940ab3",
       "version_major": 2,
       "version_minor": 0
      },
      "text/plain": [
       "Retrieving MaterialsDoc documents:   0%|          | 0/1 [00:00<?, ?it/s]"
      ]
     },
     "metadata": {},
     "output_type": "display_data"
    }
   ],
   "source": [
    "#récupération de la structure\n",
    "with MPRester(mp_key) as m:\n",
    "    prim_struc = m.get_structure_by_material_id(mp_id) \n",
    "    \n",
    "#récupération de la structure conventionnelle qui correspond à la maille du fichier CIF symmetrized\n",
    "conv_struc = SpacegroupAnalyzer(prim_struc).get_conventional_standard_structure()"
   ]
  },
  {
   "cell_type": "code",
   "execution_count": 101,
   "id": "d7a2d028",
   "metadata": {},
   "outputs": [
    {
     "data": {
      "application/vnd.jupyter.widget-view+json": {
       "model_id": "d19df5974b6d4625836c3e39b8e17b2b",
       "version_major": 2,
       "version_minor": 0
      },
      "text/plain": [
       "JsmolView(layout=Layout(align_self='stretch', height='400px'))"
      ]
     },
     "metadata": {},
     "output_type": "display_data"
    }
   ],
   "source": [
    "#représentation de la structure conventionnelle\n",
    "view = quick_view(conv_struc)\n",
    "display(view)"
   ]
  },
  {
   "cell_type": "code",
   "execution_count": 102,
   "id": "b7a51b38",
   "metadata": {
    "scrolled": true
   },
   "outputs": [
    {
     "name": "stdout",
     "output_type": "stream",
     "text": [
      "Symétrie 1:\n",
      "Rot:\n",
      "[[-1.  0.  0.]\n",
      " [ 0.  1.  0.]\n",
      " [ 0.  0. -1.]]\n",
      "tau\n",
      "[0. 0. 0.] \n",
      "\n",
      "Symétrie 2:\n",
      "Rot:\n",
      "[[0. 1. 0.]\n",
      " [1. 0. 0.]\n",
      " [0. 0. 1.]]\n",
      "tau\n",
      "[0. 0. 0.] \n",
      "\n",
      "Symétrie 3:\n",
      "Rot:\n",
      "[[1. 0. 0.]\n",
      " [0. 1. 0.]\n",
      " [0. 0. 1.]]\n",
      "tau\n",
      "[0.5 0.5 0. ] \n",
      "\n"
     ]
    }
   ],
   "source": [
    "#récupération des opérations de symétrie\n",
    "symop = SpacegroupAnalyzer(conv_struc).get_space_group_operations()\n",
    "\n",
    "#Choix des 3 éléments de symétrie \n",
    "i_symop1 = 6\n",
    "print(\"Symétrie 1:\")\n",
    "print(symop[i_symop1],\"\\n\")\n",
    "\n",
    "i_symop2 = 5\n",
    "print(\"Symétrie 2:\")\n",
    "print(symop[i_symop2],\"\\n\")\n",
    "\n",
    "i_symop3 = 24\n",
    "print(\"Symétrie 3:\")\n",
    "print(symop[i_symop3],\"\\n\")\n",
    "\n",
    "#récupération des sites des atomes dans la maille conventionnelle\n",
    "sites = conv_struc.sites\n"
   ]
  },
  {
   "cell_type": "markdown",
   "id": "b86c7e1f",
   "metadata": {},
   "source": [
    "Premier élément de symétrie\n",
    "\n",
    "Le premier élément de symétrie fait passer des coordonnées (x,y,z) au coordonnées (-x,y,-z). Il s'agit d'une rotation du deuxième ordre $C_2$ (de 180°) autour de l'axe b. \n",
    "La matrice de rotation qui représente cette opération est : $$\\left({\\begin{array}{cc}\n",
    "    -1 & 0 & 0 \\\\\n",
    "    0 & 1 & 0 \\\\\n",
    "    0 & 0 & -1 \\\\\n",
    "  \\end{array} }\\right)$$\n",
    "\n",
    "\n",
    "Le vecteur représentant la translation est nul.\n",
    "\n",
    "Cet élément de symétrie est appliqué à l'atome Y dont les coordonnées réduites sont (0,0,0.5)"
   ]
  },
  {
   "cell_type": "code",
   "execution_count": 103,
   "id": "2309e499",
   "metadata": {},
   "outputs": [
    {
     "name": "stdout",
     "output_type": "stream",
     "text": [
      "Coordonées réduites de la position avant l'application de l'élément de symétrie: [0.  0.  0.5]\n",
      "Coordonées réduites de la position après application de l'élément de symétrie: [ 0.   0.  -0.5]\n"
     ]
    }
   ],
   "source": [
    "#atome sur lequel on applique l'élément de symétrie\n",
    "i_atom1 = 2\n",
    "at1 = sites[i_atom1]\n",
    "#opération de symétrie \n",
    "op1 = symop[i_symop1]\n",
    "#coordonnées de la position initiale \n",
    "pos_init1 = at1.frac_coords\n",
    "print(\"Coordonées réduites de la position avant l'application de l'élément de symétrie:\",pos_init1)\n",
    "#coordonnées de la position finale (après symétrie) \n",
    "pos_final1 = op1.operate(pos_init1)\n",
    "print(\"Coordonées réduites de la position après application de l'élément de symétrie:\",pos_final1)"
   ]
  },
  {
   "cell_type": "code",
   "execution_count": 104,
   "id": "1fbefa07",
   "metadata": {
    "scrolled": true
   },
   "outputs": [
    {
     "data": {
      "application/vnd.jupyter.widget-view+json": {
       "model_id": "8fc49133207148a78f31204043c49a7e",
       "version_major": 2,
       "version_minor": 0
      },
      "text/plain": [
       "JsmolView(layout=Layout(align_self='stretch', height='400px'))"
      ]
     },
     "metadata": {},
     "output_type": "display_data"
    }
   ],
   "source": [
    "# représentation 3D de l'opération de symétrie \n",
    "view1 = quick_view(conv_struc)\n",
    "display(view1)\n",
    "view1.script('draw SYMOP ' + str(i_symop1+1) + ' {atomno = ' + str(4) + '}')"
   ]
  },
  {
   "cell_type": "markdown",
   "id": "12841664",
   "metadata": {},
   "source": [
    "Deuxième élément de symétrie\n",
    "\n",
    "Le deuxième élément de symétrie fait passer des coordonnées (x,y,z) au coordonnées (y,x,z). Il s'agit d'un plan mirroir m, le plan $(1 \\bar{1} 0)$.\n",
    "\n",
    "La matrice de rotation qui représente cette opération est : $$\\left({\\begin{array}{cc}\n",
    "    0 & 1 & 0 \\\\\n",
    "    1 & 0 & 0 \\\\\n",
    "    0 & 0 & 1 \\\\\n",
    "  \\end{array} }\\right)$$\n",
    "\n",
    "Le vecteur représentant la translation est nul : (0,0,0)\n",
    "\n",
    "Cet élément de symétrie est appliqué à l'atome Ni dont les coordonnées réduites sont (0.75,0.25,0.75)"
   ]
  },
  {
   "cell_type": "code",
   "execution_count": 105,
   "id": "e56794b2",
   "metadata": {},
   "outputs": [
    {
     "name": "stdout",
     "output_type": "stream",
     "text": [
      "Coordonées réduites de la position avant l'application de l'élément de symétrie: [0.75 0.25 0.75]\n",
      "Coordonées réduites de la position après application de l'élément de symétrie: [0.25 0.75 0.75]\n"
     ]
    }
   ],
   "source": [
    "#atome sur lequel on applique l'élément de symétrie\n",
    "i_atom2 = 4\n",
    "at2 = sites[i_atom2]\n",
    "#opération de symétrie \n",
    "op2 = symop[i_symop2]\n",
    "#coordonnées de la position initiale \n",
    "pos_init2 = at2.frac_coords\n",
    "print(\"Coordonées réduites de la position avant l'application de l'élément de symétrie:\",pos_init2)\n",
    "#coordonnées de la position finale (après symétrie) \n",
    "pos_final2 = op2.operate(pos_init2)\n",
    "print(\"Coordonées réduites de la position après application de l'élément de symétrie:\",pos_final2)"
   ]
  },
  {
   "cell_type": "code",
   "execution_count": 106,
   "id": "74087b5b",
   "metadata": {},
   "outputs": [
    {
     "data": {
      "application/vnd.jupyter.widget-view+json": {
       "model_id": "87397c7f285f4b8aa869c8e8de90ebf9",
       "version_major": 2,
       "version_minor": 0
      },
      "text/plain": [
       "JsmolView(layout=Layout(align_self='stretch', height='400px'))"
      ]
     },
     "metadata": {},
     "output_type": "display_data"
    }
   ],
   "source": [
    "# représentation 3D de l'opération de symétrie \n",
    "view2 = quick_view(conv_struc)\n",
    "display(view2)\n",
    "view2.script('draw SYMOP ' + str(i_symop2 + 1) + ' {atomno = ' + str(i_atom2 + 1) + '}')"
   ]
  },
  {
   "cell_type": "markdown",
   "id": "499c54a7",
   "metadata": {},
   "source": [
    "Troisème  élément de symétrie\n",
    "\n",
    "Le troisième élément de symétrie fait passer des coordonnées (x,y,z) au coordonnées (x+1/2,y+1/2,z). Il s'agit d'une translation pure.\n",
    "\n",
    "La matrice de rotation qui représente cette opération est la matrice identité car il s'agit d'une translation pure: $$\\left({\\begin{array}{cc}\n",
    "    1 & 0 & 0 \\\\\n",
    "    0 & 1 & 0 \\\\\n",
    "    0 & 0 & 1 \\\\\n",
    "  \\end{array} }\\right)$$\n",
    "\n",
    "Le vecteur représentant la translation est : (0.5,0.5,0)\n",
    "\n",
    "Cet élément de symétrie est appliqué à l'atome Bi dont les coordonnées réduites sont (0,0,0)"
   ]
  },
  {
   "cell_type": "code",
   "execution_count": 107,
   "id": "abaf55e9",
   "metadata": {},
   "outputs": [
    {
     "name": "stdout",
     "output_type": "stream",
     "text": [
      "Coordonées réduites de la position avant l'application de l'élément de symétrie: [0. 0. 0.]\n",
      "Coordonées réduites de la position après application de l'élément de symétrie: [0.5 0.5 0. ]\n"
     ]
    }
   ],
   "source": [
    "#atome sur lequel on applique l'élément de symétrie\n",
    "i_atom3 = 8\n",
    "at3 = sites[i_atom3]\n",
    "#opération de symétrie \n",
    "op3 = symop[i_symop3]\n",
    "#coordonnées de la position initiale \n",
    "pos_init3 = at3.frac_coords\n",
    "print(\"Coordonées réduites de la position avant l'application de l'élément de symétrie:\",pos_init3)\n",
    "#coordonnées de la position finale (après symétrie) \n",
    "pos_final3 = op3.operate(pos_init3)\n",
    "print(\"Coordonées réduites de la position après application de l'élément de symétrie:\",pos_final3)"
   ]
  },
  {
   "cell_type": "code",
   "execution_count": 108,
   "id": "0a614d58",
   "metadata": {},
   "outputs": [
    {
     "data": {
      "application/vnd.jupyter.widget-view+json": {
       "model_id": "df9727ce0efc4efb87753014d8a76565",
       "version_major": 2,
       "version_minor": 0
      },
      "text/plain": [
       "JsmolView(layout=Layout(align_self='stretch', height='400px'))"
      ]
     },
     "metadata": {},
     "output_type": "display_data"
    }
   ],
   "source": [
    "# représentation 3D de l'opération de symétrie \n",
    "view3 = quick_view(conv_struc)\n",
    "display(view3)\n",
    "view3.script('draw SYMOP ' + str(i_symop3 + 1) + ' {atomno = ' + str(i_atom3 + 1) + '}')"
   ]
  },
  {
   "cell_type": "code",
   "execution_count": null,
   "id": "11ed33b5",
   "metadata": {},
   "outputs": [],
   "source": []
  }
 ],
 "metadata": {
  "kernelspec": {
   "display_name": "Python 3 (ipykernel)",
   "language": "python",
   "name": "python3"
  },
  "language_info": {
   "codemirror_mode": {
    "name": "ipython",
    "version": 3
   },
   "file_extension": ".py",
   "mimetype": "text/x-python",
   "name": "python",
   "nbconvert_exporter": "python",
   "pygments_lexer": "ipython3",
   "version": "3.9.13"
  }
 },
 "nbformat": 4,
 "nbformat_minor": 5
}
